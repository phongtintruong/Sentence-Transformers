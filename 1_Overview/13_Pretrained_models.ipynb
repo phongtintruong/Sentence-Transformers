{
 "cells": [
  {
   "cell_type": "markdown",
   "metadata": {},
   "source": [
    "## Pretrained Models"
   ]
  },
  {
   "cell_type": "markdown",
   "metadata": {},
   "source": [
    "### Model Overview"
   ]
  },
  {
   "cell_type": "markdown",
   "metadata": {},
   "source": [
    "There're a lot of pretrained models can be found suitable for several tasks"
   ]
  },
  {
   "cell_type": "markdown",
   "metadata": {},
   "source": [
    "### Semantic Search\n",
    "Given a question/search query, the model can find relevant text passages."
   ]
  },
  {
   "cell_type": "markdown",
   "metadata": {},
   "source": [
    "#### Usage"
   ]
  },
  {
   "cell_type": "code",
   "execution_count": 1,
   "metadata": {},
   "outputs": [
    {
     "name": "stdout",
     "output_type": "stream",
     "text": [
      "Similarity score: tensor([[0.3564, 0.2054]])\n"
     ]
    }
   ],
   "source": [
    "from sentence_transformers import SentenceTransformer, util\n",
    "model = SentenceTransformer('multi-qa-MiniLM-L6-cos-v1')\n",
    "\n",
    "query_embedding = model.encode(\"what's the best way to live?\")\n",
    "passage_embedding = model.encode([\"You should live in the moment. Don't dwell on the past or worry about the future. Live for today!\",\n",
    "                                  \"Everybody dies, but not everybody lives\"])\n",
    "\n",
    "print(\"Similarity score:\", util.dot_score(query_embedding, passage_embedding))"
   ]
  },
  {
   "cell_type": "markdown",
   "metadata": {},
   "source": [
    "#### Multi-QA Models\n",
    "There are several models have been trained on 215M QA pairs from various sources and domains.\n",
    "These model perform well on many search tasks and domains.\n",
    "- Some were tuned to be used with dot-product\n",
    "- Some produce normalized vectors of length 1, which can be used with dot-product, cosine-similarity and Euclidean distance"
   ]
  },
  {
   "cell_type": "markdown",
   "metadata": {},
   "source": [
    "#### MSMARCO Passage Models\n",
    "The MSMARCO Passage Ranking Dataset contains 500k real queries. Models also perform well on other domains.\n",
    "- Some were tuned to be used with dot-product\n",
    "- Some produce normalized vectors of length 1, which can be used with dot-product, cosine-similarity and Euclidean distance"
   ]
  }
 ],
 "metadata": {
  "kernelspec": {
   "display_name": "NTT-CLEAR",
   "language": "python",
   "name": "python3"
  },
  "language_info": {
   "codemirror_mode": {
    "name": "ipython",
    "version": 3
   },
   "file_extension": ".py",
   "mimetype": "text/x-python",
   "name": "python",
   "nbconvert_exporter": "python",
   "pygments_lexer": "ipython3",
   "version": "3.11.5"
  },
  "orig_nbformat": 4
 },
 "nbformat": 4,
 "nbformat_minor": 2
}

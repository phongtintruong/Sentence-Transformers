{
  "cells": [
    {
      "cell_type": "markdown",
      "metadata": {
        "id": "5e21X6E7sA5K"
      },
      "source": [
        "## Overview\n",
        "SentenceTransformers is SOTA Python framework for sentence, text and image embeddings."
      ]
    },
    {
      "cell_type": "markdown",
      "metadata": {
        "id": "87PWv2MRs-6I"
      },
      "source": [
        "### Installation"
      ]
    },
    {
      "cell_type": "code",
      "execution_count": null,
      "metadata": {
        "id": "STrAg9vVq9Mp"
      },
      "outputs": [],
      "source": [
        "%pip install -U sentence-transformers"
      ]
    },
    {
      "cell_type": "code",
      "execution_count": 4,
      "metadata": {
        "id": "9WPky3J2t8lk"
      },
      "outputs": [],
      "source": [
        "from sentence_transformers import SentenceTransformer"
      ]
    }
  ],
  "metadata": {
    "accelerator": "GPU",
    "colab": {
      "gpuType": "T4",
      "provenance": []
    },
    "kernelspec": {
      "display_name": "Python 3",
      "name": "python3"
    },
    "language_info": {
      "codemirror_mode": {
        "name": "ipython",
        "version": 3
      },
      "file_extension": ".py",
      "mimetype": "text/x-python",
      "name": "python",
      "nbconvert_exporter": "python",
      "pygments_lexer": "ipython3",
      "version": "3.11.5"
    }
  },
  "nbformat": 4,
  "nbformat_minor": 0
}
